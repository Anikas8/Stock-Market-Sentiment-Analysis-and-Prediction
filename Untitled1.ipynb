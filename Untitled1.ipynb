{
 "cells": [
  {
   "cell_type": "code",
   "execution_count": 12,
   "id": "d86938a2",
   "metadata": {},
   "outputs": [
    {
     "name": "stdout",
     "output_type": "stream",
     "text": [
      "Please enter your phone (or bot token): +919630263959\n",
      "Please enter the code you received: 46813\n",
      "Signed in successfully as Anika Saxena; remember to not break the ToS or you will risk an account ban!\n",
      "Saved 100 messages to discussion_stock_market_messages.csv\n"
     ]
    }
   ],
   "source": [
    "import nest_asyncio\n",
    "import time\n",
    "import pandas as pd\n",
    "from telethon import TelegramClient\n",
    "import asyncio\n",
    "import sqlite3\n",
    "\n",
    "# Step 1: Set up API credentials\n",
    "api_id = '26277116'  # Your API ID (integer)\n",
    "api_hash = 'efce3c36f8e4b19b67d87acc74a9f7f5'  # Your API Hash (string)\n",
    "phone = '+919630263959'  # Your phone number with country code\n",
    "# Step 2: Connect to Telegram\n",
    "nest_asyncio.apply()\n",
    "\n",
    "async def scrape_telegram_messages(channel_username, limit=100, retry_attempts=3, delay=5):\n",
    "    attempt = 0\n",
    "    while attempt < retry_attempts:\n",
    "        try:\n",
    "            session_name = f\"session_{int(time.time())}\"  # Generate a unique session name\n",
    "            async with TelegramClient(session_name, api_id, api_hash) as client:\n",
    "                await client.start(phone)\n",
    "                entity = await client.get_entity(channel_username)\n",
    "                messages = await client.get_messages(entity, limit=limit)\n",
    "\n",
    "                data = []\n",
    "                for message in messages:\n",
    "                    data.append({\n",
    "                        'Date': message.date,\n",
    "                        'Sender': message.sender_id,\n",
    "                        'Message': message.message\n",
    "                    })\n",
    "\n",
    "                # Save to CSV\n",
    "                df = pd.DataFrame(data)\n",
    "                df.to_csv(f'{channel_username}_messages.csv', index=False)\n",
    "                print(f\"Saved {len(messages)} messages to {channel_username}_messages.csv\")\n",
    "                return  # Successfully completed, exit function\n",
    "\n",
    "        except sqlite3.OperationalError as e:\n",
    "            print(f\"Database locked. Attempt {attempt + 1} failed. Retrying in {delay} seconds...\")\n",
    "            time.sleep(delay)\n",
    "            attempt += 1\n",
    "\n",
    "    print(\"Failed to complete scraping after multiple attempts.\")\n",
    "\n",
    "# Step 3: Run the scraper\n",
    "if __name__ == \"__main__\":\n",
    "    channel_username = \"discussion_stock_market\"  # Replace with the target channel username\n",
    "    asyncio.run(scrape_telegram_messages(channel_username, limit=100))"
   ]
  },
  {
   "cell_type": "code",
   "execution_count": 14,
   "id": "3e1ed9e4",
   "metadata": {},
   "outputs": [
    {
     "name": "stdout",
     "output_type": "stream",
     "text": [
      "                        Date  \\\n",
      "0  2024-11-24 09:19:39+00:00   \n",
      "1  2024-11-24 09:19:39+00:00   \n",
      "2  2024-11-24 09:19:39+00:00   \n",
      "3  2024-11-24 09:19:39+00:00   \n",
      "4  2024-11-24 09:19:39+00:00   \n",
      "\n",
      "                                             Message Sentiment Category  \n",
      "0                                                NaN            Neutral  \n",
      "1  Now it's your choice to enter into Sakuma Expo...            Neutral  \n",
      "2  Stock got split and value come down from above...           Negative  \n",
      "3                   The same happened in August 2024            Neutral  \n",
      "4  After Stock split in 2021 to Companies progres...            Neutral  \n"
     ]
    }
   ],
   "source": [
    "from textblob import TextBlob\n",
    "\n",
    "# Function to calculate sentiment\n",
    "def get_sentiment(text):\n",
    "    # Ensure text is a string (handle NaN or numeric values)\n",
    "    if not isinstance(text, str):\n",
    "        text = str(text)  # Convert non-string to string (e.g., NaN or numeric values)\n",
    "    \n",
    "    # Perform sentiment analysis\n",
    "    analysis = TextBlob(text)\n",
    "    return analysis.sentiment.polarity\n",
    "\n",
    "# Apply sentiment function to the 'Message' column\n",
    "df['Sentiment'] = df['Message'].apply(get_sentiment)\n",
    "\n",
    "# Classify sentiment into categories\n",
    "df['Sentiment Category'] = df['Sentiment'].apply(lambda x: 'Positive' if x > 0 else ('Negative' if x < 0 else 'Neutral'))\n",
    "\n",
    "# Display the data with sentiment\n",
    "print(df[['Date', 'Message', 'Sentiment Category']].head())\n",
    "\n",
    "# Save to a new CSV if you want to keep the sentiment analysis result\n",
    "df.to_csv('discussion_stock_market_with_sentiment.csv', index=False)\n"
   ]
  },
  {
   "cell_type": "code",
   "execution_count": 15,
   "id": "ea25c454",
   "metadata": {},
   "outputs": [
    {
     "data": {
      "image/png": "[encoded data removed]",
      "text/plain": [
       "<Figure size 720x432 with 1 Axes>"
      ]
     },
     "metadata": {
      "needs_background": "light"
     },
     "output_type": "display_data"
    }
   ],
   "source": [
    "import matplotlib.pyplot as plt\n",
    "\n",
    "# Convert the date to datetime\n",
    "df['Date'] = pd.to_datetime(df['Date'])\n",
    "\n",
    "# Plot sentiment over time\n",
    "plt.figure(figsize=(10, 6))\n",
    "plt.plot(df['Date'], df['Sentiment'], label='Sentiment')\n",
    "plt.title('Sentiment Analysis Over Time')\n",
    "plt.xlabel('Date')\n",
    "plt.ylabel('Sentiment')\n",
    "plt.xticks(rotation=45)\n",
    "plt.legend()\n",
    "plt.show()\n"
   ]
  },
  {
   "cell_type": "code",
   "execution_count": 21,
   "id": "af6ed6be",
   "metadata": {},
   "outputs": [
    {
     "name": "stdout",
     "output_type": "stream",
     "text": [
      "Index(['Date', 'Sender', 'Message', 'Sentiment', 'Sentiment Category'], dtype='object')\n"
     ]
    }
   ],
   "source": [
    "print(df.columns)\n"
   ]
  },
  {
   "cell_type": "code",
   "execution_count": 53,
   "id": "8470d7da",
   "metadata": {},
   "outputs": [
    {
     "name": "stdout",
     "output_type": "stream",
     "text": [
      "                        Date      Sender  \\\n",
      "0  2024-11-24 09:19:39+00:00  7482805767   \n",
      "1  2024-11-24 09:19:39+00:00  7482805767   \n",
      "2  2024-11-24 09:19:39+00:00  7482805767   \n",
      "3  2024-11-24 09:19:39+00:00  7482805767   \n",
      "4  2024-11-24 09:19:39+00:00  7482805767   \n",
      "\n",
      "                                             Message  Sentiment  \\\n",
      "0                                                NaN   0.000000   \n",
      "1  Now it's your choice to enter into Sakuma Expo...   0.000000   \n",
      "2  Stock got split and value come down from above...  -0.103704   \n",
      "3                   The same happened in August 2024   0.000000   \n",
      "4  After Stock split in 2021 to Companies progres...   0.000000   \n",
      "\n",
      "  Sentiment Category  \n",
      "0            Neutral  \n",
      "1            Neutral  \n",
      "2           Negative  \n",
      "3            Neutral  \n",
      "4            Neutral  \n"
     ]
    }
   ],
   "source": [
    "import pandas as pd\n",
    "import numpy as np\n",
    "from sklearn.model_selection import train_test_split\n",
    "from sklearn.preprocessing import StandardScaler\n",
    "from sklearn.impute import SimpleImputer\n",
    "import pandas as pd\n",
    "\n",
    "# Load the dataset\n",
    "df = pd.read_csv('discussion_stock_market_with_sentiment.csv')\n",
    "\n",
    "# Display the first few rows of the dataset to understand its structure\n",
    "print(df.head())\n"
   ]
  },
  {
   "cell_type": "code",
   "execution_count": 58,
   "id": "1418986d",
   "metadata": {},
   "outputs": [
    {
     "name": "stdout",
     "output_type": "stream",
     "text": [
      "Date                   0\n",
      "Sender                 0\n",
      "Message               15\n",
      "Sentiment              0\n",
      "Sentiment Category     0\n",
      "dtype: int64\n",
      "Date                  0\n",
      "Sender                0\n",
      "Message               0\n",
      "Sentiment             0\n",
      "Sentiment Category    0\n",
      "dtype: int64\n"
     ]
    }
   ],
   "source": [
    "# Check for missing values\n",
    "print(df.isnull().sum())\n",
    "# Drop rows with missing values in the 'Message' column\n",
    "df.dropna(subset=['Message'], inplace=True)\n",
    "\n",
    "# Check if there are any remaining missing values\n",
    "print(df.isnull().sum())\n",
    "\n"
   ]
  },
  {
   "cell_type": "code",
   "execution_count": 59,
   "id": "a117f6aa",
   "metadata": {},
   "outputs": [
    {
     "name": "stdout",
     "output_type": "stream",
     "text": [
      "0\n",
      "0\n"
     ]
    }
   ],
   "source": [
    "# Check for duplicate rows\n",
    "print(df.duplicated().sum())\n",
    "# Remove duplicate rows\n",
    "df = df.drop_duplicates()\n",
    "\n",
    "# Check if any duplicates remain\n",
    "print(df.duplicated().sum())  # This will show the number of duplicate rows left\n"
   ]
  },
  {
   "cell_type": "code",
   "execution_count": 57,
   "id": "dad71058",
   "metadata": {},
   "outputs": [
    {
     "name": "stdout",
     "output_type": "stream",
     "text": [
      "             Sender   Sentiment\n",
      "count  1.000000e+02  100.000000\n",
      "mean   4.002709e+09    0.043867\n",
      "std    2.837811e+09    0.178709\n",
      "min    5.088777e+08   -0.500000\n",
      "25%    1.230266e+09    0.000000\n",
      "50%    2.067554e+09    0.000000\n",
      "75%    7.482806e+09    0.000000\n",
      "max    7.482806e+09    0.800000\n"
     ]
    }
   ],
   "source": [
    "# Get a summary of the dataset\n",
    "print(df.describe())"
   ]
  },
  {
   "cell_type": "code",
   "execution_count": 70,
   "id": "b1bf17ac",
   "metadata": {},
   "outputs": [
    {
     "name": "stdout",
     "output_type": "stream",
     "text": [
      "Sentiment Distribution:\n",
      " 0.000000    68\n",
      " 0.079247     3\n",
      " 0.100000     2\n",
      " 0.500000     2\n",
      " 0.700000     2\n",
      "-0.000992     2\n",
      " 0.750000     1\n",
      " 0.800000     1\n",
      " 0.070000     1\n",
      "-0.125000     1\n",
      "-0.200000     1\n",
      " 0.250000     1\n",
      " 0.106667     1\n",
      "-0.500000     1\n",
      "-0.100000     1\n",
      "-0.103704     1\n",
      " 0.070391     1\n",
      "-0.035045     1\n",
      " 0.300000     1\n",
      " 0.148571     1\n",
      "-0.166667     1\n",
      " 0.285714     1\n",
      "Name: Sentiment, dtype: int64\n"
     ]
    }
   ],
   "source": [
    "# Check the distribution of the Sentiment column\n",
    "print(\"Sentiment Distribution:\")\n",
    "print(df['Sentiment'].value_counts())\n"
   ]
  },
  {
   "cell_type": "code",
   "execution_count": 71,
   "id": "4b006d61",
   "metadata": {},
   "outputs": [
    {
     "name": "stdout",
     "output_type": "stream",
     "text": [
      "1.0    11\n",
      "0.0     5\n",
      "Name: Stock_Movement, dtype: int64\n"
     ]
    }
   ],
   "source": [
    "# Adjust the Stock_Movement target variable based on sentiment threshold\n",
    "def map_sentiment_to_stock_movement(sentiment):\n",
    "    if sentiment > 0.1:  # You can adjust this threshold based on your data\n",
    "        return 1  # Positive movement\n",
    "    elif sentiment < -0.1:\n",
    "        return 0  # Negative movement\n",
    "    else:\n",
    "        return None  # Neutral sentiment\n",
    "\n",
    "df['Stock_Movement'] = df['Sentiment'].apply(map_sentiment_to_stock_movement)\n",
    "\n",
    "# Drop rows where Stock_Movement is None (neutral sentiments)\n",
    "df = df.dropna(subset=['Stock_Movement'])\n",
    "\n",
    "# Check class distribution again\n",
    "print(df['Stock_Movement'].value_counts())\n"
   ]
  },
  {
   "cell_type": "code",
   "execution_count": 100,
   "id": "2e9a2afc",
   "metadata": {},
   "outputs": [
    {
     "name": "stdout",
     "output_type": "stream",
     "text": [
      "1.0    11\n",
      "0.0     5\n",
      "Name: Stock_Movement, dtype: int64\n",
      "Accuracy: 0.50\n",
      "Precision: 0.50\n",
      "Recall: 1.00\n",
      "F1 Score: 0.67\n"
     ]
    }
   ],
   "source": [
    "# Step 1: Data Preprocessing\n",
    "\n",
    "import pandas as pd\n",
    "import numpy as np\n",
    "\n",
    "# Load the dataset\n",
    "df = pd.read_csv('discussion_stock_market_with_sentiment.csv')\n",
    "\n",
    "# Handle missing values\n",
    "df['Sentiment'] = df['Sentiment'].fillna(0)  # Fill missing sentiments with neutral sentiment\n",
    "\n",
    "# Adjust the Stock_Movement target variable based on sentiment threshold\n",
    "def map_sentiment_to_stock_movement(sentiment):\n",
    "    if sentiment > 0.1:  # You can adjust this threshold based on your data\n",
    "        return 1  # Positive movement\n",
    "    elif sentiment < -0.1:\n",
    "        return 0  # Negative movement\n",
    "    else:\n",
    "        return None  # Neutral sentiment\n",
    "\n",
    "# Create 'Stock_Movement' column\n",
    "df['Stock_Movement'] = df['Sentiment'].apply(map_sentiment_to_stock_movement)\n",
    "\n",
    "# Drop rows with no movement (neutral sentiments)\n",
    "df = df.dropna(subset=['Stock_Movement'])\n",
    "\n",
    "# Check class distribution\n",
    "print(df['Stock_Movement'].value_counts())\n",
    "\n",
    "# Feature engineering (e.g., extracting 'Message' length as an additional feature)\n",
    "df['Message_Length'] = df['Message'].apply(len)\n",
    "\n",
    "# Feature set (use sentiment, message length, etc. as features)\n",
    "X = df[['Sentiment', 'Message_Length']]\n",
    "y = df['Stock_Movement']\n",
    "\n",
    "# Step 2: Splitting the data into training and testing sets\n",
    "from sklearn.model_selection import train_test_split\n",
    "\n",
    "X_train, X_test, y_train, y_test = train_test_split(X, y, test_size=0.2, random_state=42)\n",
    "\n",
    "# Step 3: Train a Machine Learning Model (RandomForestClassifier)\n",
    "from sklearn.linear_model import LogisticRegression\n",
    "\n",
    "# Initialize Logistic Regression model with class_weight='balanced'\n",
    "logreg_model = LogisticRegression(class_weight='balanced', max_iter=1000, random_state=42)\n",
    "logreg_model.fit(X_train, y_train)\n",
    "\n",
    "# Predict and evaluate\n",
    "y_pred_logreg = logreg_model.predict(X_test)\n",
    "print(f\"Accuracy: {accuracy_score(y_test, y_pred_logreg):.2f}\")\n",
    "print(f\"Precision: {precision_score(y_test, y_pred_logreg):.2f}\")\n",
    "print(f\"Recall: {recall_score(y_test, y_pred_logreg):.2f}\")\n",
    "print(f\"F1 Score: {f1_score(y_test, y_pred_logreg):.2f}\")\n"
   ]
  }
 ],
 "metadata": {
  "kernelspec": {
   "display_name": "Python 3 (ipykernel)",
   "language": "python",
   "name": "python3"
  },
  "language_info": {
   "codemirror_mode": {
    "name": "ipython",
    "version": 3
   },
   "file_extension": ".py",
   "mimetype": "text/x-python",
   "name": "python",
   "nbconvert_exporter": "python",
   "pygments_lexer": "ipython3",
   "version": "3.9.7"
  }
 },
 "nbformat": 4,
 "nbformat_minor": 5
}
